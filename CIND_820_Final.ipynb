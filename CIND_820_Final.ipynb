{
 "cells": [
  {
   "cell_type": "code",
   "execution_count": 1,
   "id": "0efa6ece",
   "metadata": {},
   "outputs": [
    {
     "name": "stdout",
     "output_type": "stream",
     "text": [
      "Number of attributes =   93\n"
     ]
    }
   ],
   "source": [
    "\n",
    "\n",
    "import pandas as pd\n",
    "df_git = pd.read_csv(\"Github_survey_r2.csv\",low_memory=False)\n",
    "column_headers = list(df_git.columns.values)\n",
    "b=len(column_headers)\n",
    "print(\"Number of attributes =  \", b)"
   ]
  },
  {
   "cell_type": "code",
   "execution_count": 2,
   "id": "2ab563b8",
   "metadata": {},
   "outputs": [
    {
     "name": "stdout",
     "output_type": "stream",
     "text": [
      "total Records after removing partial status rows from dataset =  3746\n",
      "1    2846\n",
      "0     900\n",
      "Name: Behaviour, dtype: int64\n"
     ]
    }
   ],
   "source": [
    "# adding FINAL BEHAVIOUR column to dataset\n",
    "df_git['Behaviour'] = None\n",
    "\n",
    "# Removing rows with STATUS attribute value PARTIAL\n",
    "df_git.drop(df_git[df_git['STATUS'] == 'Partial'].index, inplace = True)\n",
    "\n",
    "print(\"total Records after removing partial status rows from dataset = \", len(df_git))\n",
    "\n",
    "# filling all rows of new Behaviour column as '0'\n",
    "df_git['Behaviour'] = df_git['Behaviour'].fillna(0)\n",
    "\n",
    "# Putting value '1' if any of 2 of most important behaviour attribures is YES\n",
    "\n",
    "df_git.loc[(df_git['DISCOURAGING_BEHAVIOR_BAD_DOCS'] == 'Yes') & (df_git['DISCOURAGING_BEHAVIOR_LACK_OF_RESPONSE'] == 'Yes') ,'Behaviour'] = 1\n",
    "print(df_git['Behaviour'].value_counts())"
   ]
  },
  {
   "cell_type": "code",
   "execution_count": 3,
   "id": "a2045894",
   "metadata": {},
   "outputs": [
    {
     "name": "stdout",
     "output_type": "stream",
     "text": [
      "1  Missing Values in   OSS_AS_JOB  is  45.94  %\n",
      "2  Missing Values in   EMPLOYER_POLICY_DEPENDENCIES  is  41.24  %\n",
      "3  Missing Values in   OSS_HIRING  is  46.02  %\n",
      "4  Missing Values in   MINORITY_HOMECOUNTRY  is  74.59  %\n",
      "5  Missing Values in   OFF_SITE_ID  is  88.15  %\n",
      "\n",
      "==================\n",
      "\n",
      "Number of attributes after droping above attributes =   89\n",
      "Number of attributes after droping 6 Behaviour attributes =   83\n"
     ]
    }
   ],
   "source": [
    "# finding % of missing values per attribute in complete records\n",
    "\n",
    "column_headers = list(df_git.columns.values)\n",
    "b=len(df_git)\n",
    "j=1\n",
    "for x in column_headers:\n",
    "    a= df_git[x].isna().sum()\n",
    "    temp= round((a/b)*100,2)\n",
    "    if temp >= 40:\n",
    "        print(j,\" Missing Values in  \", x, \" is \", temp , \" %\" )\n",
    "        j=j+1\n",
    "print(\"\\n==================\\n\")\n",
    "\n",
    "#Removing these high NA percentage attributes from dataset\n",
    "\n",
    "df_git.drop(['OSS_AS_JOB', 'EMPLOYER_POLICY_DEPENDENCIES', 'OSS_HIRING','MINORITY_HOMECOUNTRY','OFF_SITE_ID'], axis=1, inplace=True)\n",
    "column_headers = list(df_git.columns.values)\n",
    "b=len(column_headers)\n",
    "print(\"Number of attributes after droping above attributes =  \", b)\n",
    "\n",
    "# removing 6 behaviour attributes\n",
    "df_git.drop(['DISCOURAGING_BEHAVIOR_LACK_OF_RESPONSE', 'DISCOURAGING_BEHAVIOR_REJECTION_WOUT_EXPLANATION', \n",
    "             'DISCOURAGING_BEHAVIOR_DISMISSIVE_RESPONSE','DISCOURAGING_BEHAVIOR_BAD_DOCS',\n",
    "             'DISCOURAGING_BEHAVIOR_CONFLICT','DISCOURAGING_BEHAVIOR_UNWELCOMING_LANGUAGE'], axis=1, inplace=True)\n",
    "\n",
    "column_headers = list(df_git.columns.values)\n",
    "b=len(column_headers)\n",
    "print(\"Number of attributes after droping 6 Behaviour attributes =  \", b)\n"
   ]
  },
  {
   "cell_type": "code",
   "execution_count": 4,
   "id": "e9948c85",
   "metadata": {
    "scrolled": false
   },
   "outputs": [
    {
     "name": "stdout",
     "output_type": "stream",
     "text": [
      "Number of attributes after droping 6 Behaviour attributes =   83\n",
      "Number of attributes  =   72\n",
      "Number of attributes  =   66\n",
      "Number of attributes  =   47\n",
      "Number of attributes  =   28\n",
      "Number of attributes  =   26\n",
      "Number of attributes  =   14\n",
      "Number of attributes  =   7\n",
      "----------\n",
      "['CONTRIBUTOR_TYPE_FILE_BUGS', 'OSS_USER_PRIORITIES_LICENSE', 'INTERNAL_EFFICACY', 'FIND_HELPER', 'PROVIDED_HELP', 'AGE', 'Behaviour']\n"
     ]
    }
   ],
   "source": [
    "# deleting some not useful attributes\n",
    "\n",
    "#CONTRIBUTOR_TYPE_FILE_BUGS\n",
    "#OSS_USER_PRIORITIES_LICENSE\n",
    "# INTERNAL_EFFICACY\n",
    "# FIND_HELPER\n",
    "# PROVIDED_HELP\n",
    "# AGE\n",
    "\n",
    "df_r= df_git.copy(deep=True)\n",
    "column_headers = list(df_r.columns.values)\n",
    "b=len(column_headers)\n",
    "print(\"Number of attributes after droping 6 Behaviour attributes =  \", b)\n",
    "\n",
    "#print(column_headers)\n",
    "\n",
    "\n",
    "# main_att=['CONTRIBUTOR_TYPE_FILE_BUGS','OSS_USER_PRIORITIES_LICENSE','INTERNAL_EFFICACY','PROVIDED_HELP', 'AGE', 'Behaviour' ]\n",
    "# print(\"\\n---------\\n\")\n",
    "# sub_list=list()\n",
    "\n",
    "# for x in column_headers:\n",
    "#     i=0\n",
    "#     for y in main_att:\n",
    "#         if x != y:\n",
    "#             i=1+i\n",
    "#         if i==6:\n",
    "#             sub_list.append(x)\n",
    "#          # print(main_att+sub_list)\n",
    "\n",
    "\n",
    "# df_r = df_r.reindex(columns=[main_att+sub_list],copy=True)\n",
    "# print(df_r)\n",
    "#column_headers = list(df_r.columns.values)\n",
    "#print(column_headers)\n",
    "####################\n",
    "\n",
    "# contributing attributes to be left\n",
    "\n",
    "#CONTRIBUTOR_TYPE_FILE_BUGS\n",
    "#OSS_USER_PRIORITIES_LICENSE\n",
    "#INTERNAL_EFFICACY\n",
    "#FIND_HELPER\n",
    "#PROVIDED_HELP\n",
    "#AGE\n",
    "\n",
    "#####################\n",
    "j=11\n",
    "# deleting all the columns which were not significant as per part 2 of assignment 3\n",
    "for i in range(j):\n",
    "    df_r.drop(column_headers[i], axis=1, inplace=True)\n",
    "column_headers = list(df_r.columns.values)\n",
    "b=len(column_headers)\n",
    "print(\"Number of attributes  =  \", b)\n",
    "###################\n",
    "\n",
    "df_r2= df_r.copy(deep=True)\n",
    "j=6\n",
    "for i in range(j):\n",
    "    df_r2.drop(column_headers[i+1], axis=1, inplace=True)\n",
    "    \n",
    "column_headers = list(df_r2.columns.values)\n",
    "b=len(column_headers)\n",
    "print(\"Number of attributes  =  \", b)\n",
    "####################\n",
    "\n",
    "df_r3= df_r2.copy(deep=True)\n",
    "j=19\n",
    "for i in range(j):\n",
    "    df_r3.drop(column_headers[i+2], axis=1, inplace=True)\n",
    "    \n",
    "column_headers = list(df_r3.columns.values)\n",
    "b=len(column_headers)\n",
    "print(\"Number of attributes  =  \", b)\n",
    "####################\n",
    "\n",
    "df_r4= df_r3.copy(deep=True)\n",
    "j=19\n",
    "for i in range(j):\n",
    "    df_r4.drop(column_headers[i+3], axis=1, inplace=True)\n",
    "    \n",
    "column_headers = list(df_r4.columns.values)\n",
    "b=len(column_headers)\n",
    "print(\"Number of attributes  =  \", b)\n",
    "####################\n",
    "\n",
    "df_r5= df_r4.copy(deep=True)\n",
    "j=2\n",
    "for i in range(j):\n",
    "    df_r5.drop(column_headers[i+4], axis=1, inplace=True)\n",
    "    \n",
    "column_headers = list(df_r5.columns.values)\n",
    "b=len(column_headers)\n",
    "print(\"Number of attributes  =  \", b)\n",
    "####################\n",
    "\n",
    "df_r6= df_r5.copy(deep=True)\n",
    "j=12\n",
    "for i in range(j):\n",
    "    df_r6.drop(column_headers[i+5], axis=1, inplace=True)\n",
    "    \n",
    "column_headers = list(df_r6.columns.values)\n",
    "b=len(column_headers)\n",
    "# print(\"Number of attributes after droping 6 Behaviour attributes =  \", b)\n",
    "# print('----------')\n",
    "# print(column_headers)\n",
    "print(\"Number of attributes  =  \", b)\n",
    "# ####################\n",
    "\n",
    "df_r7= df_r6.copy(deep=True)\n",
    "j=7\n",
    "for i in range(j):\n",
    "    df_r7.drop(column_headers[i+6], axis=1, inplace=True)\n",
    "    \n",
    "column_headers = list(df_r7.columns.values)\n",
    "b=len(column_headers)\n",
    "print(\"Number of attributes  =  \", b)\n",
    "print('----------')\n",
    "print(column_headers)\n",
    "\n"
   ]
  },
  {
   "cell_type": "code",
   "execution_count": 5,
   "id": "09d3308d",
   "metadata": {},
   "outputs": [
    {
     "name": "stdout",
     "output_type": "stream",
     "text": [
      "ATTRIBUTE =  CONTRIBUTOR_TYPE_FILE_BUGS\n",
      "Rarely           505\n",
      "Occasionally    1415\n",
      "Never             68\n",
      "Frequently       770\n",
      "NaN              988\n",
      "Name: CONTRIBUTOR_TYPE_FILE_BUGS, dtype: int64\n",
      "3.0     770\n",
      "2.0    1415\n",
      "1.0     505\n",
      "0.0      68\n",
      "NaN     988\n",
      "Name: CONTRIBUTOR_TYPE_FILE_BUGS, dtype: int64\n"
     ]
    }
   ],
   "source": [
    "step=0\n",
    "i=0\n",
    "x1= list(df_r7.columns.values)\n",
    "print('ATTRIBUTE = ', x1[i+step])\n",
    "count = df_r7[x1[i+step]].value_counts(dropna=False).sort_index(ascending=False)\n",
    "print(count)\n",
    "Ranking = {\"Never\":0, \"Rarely\":1, \"Occasionally\":2 , \"Frequently\":3}\n",
    "df_r7[x1[i+step]] = df_r7[x1[i+step]].replace(Ranking)\n",
    "count = df_r7[x1[i+step]].value_counts(dropna=False).sort_index(ascending=False)\n",
    "print(count)"
   ]
  },
  {
   "cell_type": "code",
   "execution_count": 6,
   "id": "b9745b22",
   "metadata": {},
   "outputs": [
    {
     "name": "stdout",
     "output_type": "stream",
     "text": [
      "ATTRIBUTE =  OSS_USER_PRIORITIES_LICENSE\n",
      "Very important to have            2400\n",
      "Very important not to have          22\n",
      "Somewhat important to have         903\n",
      "Somewhat important not to have      23\n",
      "Not important either way           330\n",
      "Don't know what this is             28\n",
      "NaN                                 40\n",
      "Name: OSS_USER_PRIORITIES_LICENSE, dtype: int64\n",
      "3.0    2422\n",
      "2.0     926\n",
      "1.0     330\n",
      "0.0      28\n",
      "NaN      40\n",
      "Name: OSS_USER_PRIORITIES_LICENSE, dtype: int64\n"
     ]
    }
   ],
   "source": [
    "step=1\n",
    "i=0\n",
    "print('ATTRIBUTE = ', x1[i+step])\n",
    "count = df_r7[x1[i+step]].value_counts(dropna=False).sort_index(ascending=False)\n",
    "print(count)\n",
    "Ranking = {\"Very important to have\":3, \"Very important not to have\":3, \"Somewhat important to have\":2 , \"Somewhat important not to have\":2 , \"Not important either way\":1 , \"Don't know what this is\":0}\n",
    "df_r7[x1[i+step]] = df_r7[x1[i+step]].replace(Ranking)\n",
    "count = df_r7[x1[i+step]].value_counts(dropna=False).sort_index(ascending=False)\n",
    "print(count)"
   ]
  },
  {
   "cell_type": "code",
   "execution_count": 7,
   "id": "91201afc",
   "metadata": {},
   "outputs": [
    {
     "name": "stdout",
     "output_type": "stream",
     "text": [
      "ATTRIBUTE =  INTERNAL_EFFICACY\n",
      "Strongly disagree               51\n",
      "Strongly agree                1738\n",
      "Somewhat disagree              206\n",
      "Somewhat agree                1399\n",
      "Neither agree nor disagree     342\n",
      "NaN                             10\n",
      "Name: INTERNAL_EFFICACY, dtype: int64\n",
      "4.0    1738\n",
      "3.0    1399\n",
      "2.0     342\n",
      "1.0     206\n",
      "0.0      51\n",
      "NaN      10\n",
      "Name: INTERNAL_EFFICACY, dtype: int64\n"
     ]
    }
   ],
   "source": [
    "step=2\n",
    "i=0\n",
    "print('ATTRIBUTE = ', x1[i+step])\n",
    "count = df_r7[x1[i+step]].value_counts(dropna=False).sort_index(ascending=False)\n",
    "print(count)\n",
    "Ranking = {\"Strongly disagree\":0, \"Somewhat disagree\":1, \"Neither agree nor disagree\":2 , \"Somewhat agree\":3 , \"Strongly agree\":4}\n",
    "df_r7[x1[i+step]] = df_r7[x1[i+step]].replace(Ranking)\n",
    "count = df_r7[x1[i+step]].value_counts(dropna=False).sort_index(ascending=False)\n",
    "print(count)"
   ]
  },
  {
   "cell_type": "code",
   "execution_count": 8,
   "id": "282f9c6d",
   "metadata": {},
   "outputs": [
    {
     "name": "stdout",
     "output_type": "stream",
     "text": [
      "ATTRIBUTE =  FIND_HELPER\n",
      "Categorical Attribute hence label encoding enforced\n",
      "Someone offered me unsolicited help.                                                                               267\n",
      "Other - Please describe                                                                                             62\n",
      "I asked for help in a public forum (e.g. in a GitHub Issue, project mailing list, etc.) and someone responded.    1983\n",
      "I asked a specific person for help.                                                                                390\n",
      "NaN                                                                                                               1044\n",
      "Name: FIND_HELPER, dtype: int64\n",
      "4    1044\n",
      "3     267\n",
      "2      62\n",
      "1    1983\n",
      "0     390\n",
      "Name: FIND_HELPER, dtype: int64\n"
     ]
    }
   ],
   "source": [
    "from sklearn.preprocessing import LabelEncoder\n",
    "\n",
    "#emp column added with encoded values\n",
    "    # https://towardsdatascience.com/encoding-categorical-variables-one-hot-vs-dummy-encoding-6d5b9c46e2db\n",
    "#######################################################################\n",
    "\n",
    "\n",
    "step=3\n",
    "i=0\n",
    "print('ATTRIBUTE = ', x1[i+step])\n",
    "print('Categorical Attribute hence label encoding enforced')\n",
    "count = df_r7[x1[i+step]].value_counts(dropna=False).sort_index(ascending=False)\n",
    "print(count)\n",
    "\n",
    "# now this is a categorical attribute and not a ordinal attribute\n",
    "\n",
    "df_r7['helper'] = LabelEncoder().fit_transform(df_r7[x1[i+step]])\n",
    "\n",
    "#deleting FIND_HELPER column\n",
    "\n",
    "df_r7.drop([x1[i+step]], axis=1, inplace=True)\n",
    "\n",
    "#renaming helper back to FIND_HELPER\n",
    "\n",
    "df_r7.rename(columns = {'helper':'FIND_HELPER'}, inplace = True)\n",
    "\n",
    "# shift column 'FIND_HELPER' to its original pos\n",
    "help_column = df_r7.pop('FIND_HELPER')\n",
    "df_r7.insert(step+1, 'FIND_HELPER', help_column)\n",
    "count_1 = df_r7[x1[i+step]].value_counts(dropna=False).sort_index(ascending=False)\n",
    "print(count_1)"
   ]
  },
  {
   "cell_type": "code",
   "execution_count": 9,
   "id": "4bc57a61",
   "metadata": {},
   "outputs": [
    {
     "name": "stdout",
     "output_type": "stream",
     "text": [
      "ATTRIBUTE =  PROVIDED_HELP\n",
      "Yes    2789\n",
      "No      940\n",
      "NaN      17\n",
      "Name: PROVIDED_HELP, dtype: int64\n",
      "1.0    2789\n",
      "0.0     940\n",
      "NaN      17\n",
      "Name: PROVIDED_HELP, dtype: int64\n"
     ]
    }
   ],
   "source": [
    "step=4\n",
    "i=0\n",
    "print('ATTRIBUTE = ', x1[i+step])\n",
    "count = df_r7[x1[i+step]].value_counts(dropna=False).sort_index(ascending=False)\n",
    "print(count)\n",
    "Ranking = {\"No\":0, \"Yes\":1 }\n",
    "df_r7[x1[i+step]] = df_r7[x1[i+step]].replace(Ranking)\n",
    "count = df_r7[x1[i+step]].value_counts(dropna=False).sort_index(ascending=False)\n",
    "print(count)"
   ]
  },
  {
   "cell_type": "code",
   "execution_count": 10,
   "id": "bef121f7",
   "metadata": {},
   "outputs": [
    {
     "name": "stdout",
     "output_type": "stream",
     "text": [
      "ATTRIBUTE =  AGE\n",
      "65 years or older      36\n",
      "55 to 64 years         93\n",
      "45 to 54 years        267\n",
      "35 to 44 years        772\n",
      "25 to 34 years       1398\n",
      "18 to 24 years        870\n",
      "17 or younger         138\n",
      "NaN                   172\n",
      "Name: AGE, dtype: int64\n",
      "6.0      36\n",
      "5.0      93\n",
      "4.0     267\n",
      "3.0     772\n",
      "2.0    1398\n",
      "1.0     870\n",
      "0.0     138\n",
      "NaN     172\n",
      "Name: AGE, dtype: int64\n"
     ]
    }
   ],
   "source": [
    "step=5\n",
    "i=0\n",
    "print('ATTRIBUTE = ', x1[i+step])\n",
    "count = df_r7[x1[i+step]].value_counts(dropna=False).sort_index(ascending=False)\n",
    "print(count)\n",
    "Ranking = {\"17 or younger\":0,\"18 to 24 years\":1, \"25 to 34 years\":2 ,\"35 to 44 years\":3 ,\"45 to 54 years\":4,\"55 to 64 years\":5 ,\"65 years or older\":6}\n",
    "df_r7[x1[i+step]] = df_r7[x1[i+step]].replace(Ranking)\n",
    "count = df_r7[x1[i+step]].value_counts(dropna=False).sort_index(ascending=False)\n",
    "print(count)"
   ]
  },
  {
   "cell_type": "code",
   "execution_count": 11,
   "id": "5cd65c5e",
   "metadata": {},
   "outputs": [
    {
     "name": "stdout",
     "output_type": "stream",
     "text": [
      "all attributes are either RANKED or ENCODED\n",
      "\n",
      "\n"
     ]
    }
   ],
   "source": [
    "# filling all Nan values with -1\n",
    "df_r7=df_r7.fillna(-1)\n",
    "\n",
    "df_r7.to_csv('C:/Users/Master/Desktop/CIND 820/Assignment 4/r2_7.csv', encoding='utf-8', index=False)\n",
    "print('all attributes are either RANKED or ENCODED')\n",
    "print('\\n')"
   ]
  },
  {
   "cell_type": "code",
   "execution_count": 12,
   "id": "17d1a6f8",
   "metadata": {},
   "outputs": [
    {
     "name": "stdout",
     "output_type": "stream",
     "text": [
      "installing packages\n"
     ]
    }
   ],
   "source": [
    "from sklearn.tree import DecisionTreeClassifier # Import Decision Tree Classifier\n",
    "from sklearn.model_selection import train_test_split # Import train_test_split function\n",
    "from sklearn import metrics #Import scikit-learn metrics module for accuracy calculation\n",
    "from sklearn.impute import MissingIndicator\n",
    "import matplotlib.pyplot as plt\n",
    "from sklearn import tree\n",
    "from sklearn.tree import export_text\n",
    "print('installing packages')"
   ]
  },
  {
   "cell_type": "code",
   "execution_count": 13,
   "id": "494b5d5c",
   "metadata": {},
   "outputs": [
    {
     "name": "stdout",
     "output_type": "stream",
     "text": [
      "Number of attributes used in classification =  6\n",
      "\n",
      "\n",
      "ATTRIBUTES TO BE USED ON TARGET VARIABLE\n",
      "['CONTRIBUTOR_TYPE_FILE_BUGS', 'OSS_USER_PRIORITIES_LICENSE', 'INTERNAL_EFFICACY', 'FIND_HELPER', 'PROVIDED_HELP', 'AGE']\n"
     ]
    }
   ],
   "source": [
    "import time\n",
    "start = time.time()\n",
    "x2=len(list(df_r7.columns.values))\n",
    "x3 = x1[0:x2-1]\n",
    "print('Number of attributes used in classification = ', len(x3))\n",
    "print('\\n')\n",
    "print('ATTRIBUTES TO BE USED ON TARGET VARIABLE')\n",
    "print(x3)"
   ]
  },
  {
   "cell_type": "code",
   "execution_count": 14,
   "id": "336f2254",
   "metadata": {},
   "outputs": [
    {
     "name": "stdout",
     "output_type": "stream",
     "text": [
      "\n",
      "\n",
      "^^^^^^^^^^^^^^^^^^^^^^^^^^^^^^^^^^^^^^^^\n",
      "Accuracy: 0.7677935943060499\n",
      "vvvvvvvvvvvvvvvvvvvvvvvvvvvvvvvvvvvvvvvv\n",
      "\n",
      "\n",
      "MAJOR CONTRIBUTER ATTRIBUTES\n",
      "`````````````````````````````\n",
      "[0.50478137 0.08432684 0.07097789 0.01185894 0.15777157 0.17028339]\n"
     ]
    }
   ],
   "source": [
    "X = df_r7[x3] # Attributes for the model\n",
    "y = df_r7.Behaviour # Target variable that is Behaviour\n",
    "\n",
    "\n",
    "# Split dataset into training set and test set\n",
    "\n",
    "X_train, X_test, y_train, y_test = train_test_split(X, y, test_size=0.3, random_state=100) # 70% training and 30% test\n",
    "\n",
    "# Create Decision Tree classifer object\n",
    "clf = DecisionTreeClassifier(criterion='entropy', max_depth=3, random_state=100)\n",
    "\n",
    "# Train Decision Tree Classifer\n",
    "clf = clf.fit(X_train,y_train)\n",
    "\n",
    "#Predict the response for test dataset\n",
    "y_pred = clf.predict(X_test)\n",
    "print('\\n')\n",
    "print('^^^^^^^^^^^^^^^^^^^^^^^^^^^^^^^^^^^^^^^^')\n",
    "      \n",
    "print(\"Accuracy:\",metrics.accuracy_score(y_test, y_pred))\n",
    "print('vvvvvvvvvvvvvvvvvvvvvvvvvvvvvvvvvvvvvvvv')\n",
    "print('\\n')\n",
    "###############################\n",
    "\n",
    "\n",
    "importance = clf.feature_importances_\n",
    "# summarize feature importance\n",
    "#for i,v in enumerate(importance):\n",
    "   # print('Feature: %0d, Score: %.5f' % (i,v))\n",
    "    \n",
    "  \n",
    "# major contributing attributes\n",
    "#print(importance)\n",
    "print('MAJOR CONTRIBUTER ATTRIBUTES')\n",
    "print('`````````````````````````````')\n",
    "print(importance)\n",
    "# for i in range (len(x3)-1):\n",
    "#     if(importance[i]) >= 0.25:\n",
    "#         print(x3[i+1]) "
   ]
  },
  {
   "cell_type": "code",
   "execution_count": 15,
   "id": "076f501a",
   "metadata": {},
   "outputs": [
    {
     "name": "stdout",
     "output_type": "stream",
     "text": [
      "6\n",
      "6\n"
     ]
    },
    {
     "name": "stderr",
     "output_type": "stream",
     "text": [
      "C:\\Users\\Master\\AppData\\Local\\Temp/ipykernel_10768/1908374903.py:11: UserWarning: color is redundantly defined by the 'color' keyword argument and the fmt string \"k--\" (-> color='k'). The keyword argument will take precedence.\n",
      "  ax.plot([0., len(x3)-1], [0.06, 0.06], \"k--\", color='red')\n"
     ]
    },
    {
     "data": {
      "image/png": "[encoded data removed]",
      "text/plain": [
       "<Figure size 1044x540 with 1 Axes>"
      ]
     },
     "metadata": {
      "needs_background": "light"
     },
     "output_type": "display_data"
    }
   ],
   "source": [
    "plt.rcParams['font.size'] = '8'\n",
    "plt.rcParams[\"figure.figsize\"] = [14.50, 7.50]\n",
    "#plt.rcParams[\"figure.autolayout\"] = True\n",
    "x2=len(list(df_r7.columns.values))\n",
    "x3 = x1[0:x2-1]\n",
    "\n",
    "fig, ax = plt.subplots()\n",
    "print(len(importance))\n",
    "print(len(x3))\n",
    "# plotting thresh hold line\n",
    "ax.plot([0., len(x3)-1], [0.06, 0.06], \"k--\", color='red')\n",
    "\n",
    "#plotting bar chart\n",
    "\n",
    "plt.bar(x3,height= importance,color=(0.1, 0.4, 0.1, 0.9))\n",
    "\n",
    "plt.setp(ax.xaxis.get_majorticklabels() , rotation=90, ha='right')\n",
    "\n",
    "\n",
    "\n",
    "plt.xlabel('Attributes', fontweight='bold')\n",
    "plt.show()\n"
   ]
  },
  {
   "cell_type": "code",
   "execution_count": 16,
   "id": "372a8537",
   "metadata": {},
   "outputs": [
    {
     "data": {
      "image/png": "[encoded data removed]",
      "text/plain": [
       "<Figure size 1008x864 with 1 Axes>"
      ]
     },
     "metadata": {
      "needs_background": "light"
     },
     "output_type": "display_data"
    }
   ],
   "source": [
    "plt.rcParams[\"figure.figsize\"] = [9.50, 6.50]\n",
    "plt.rcParams[\"figure.autolayout\"] = True\n",
    "\n",
    "plt.figure(figsize=(14,12))  # set plot size (denoted in inches)\n",
    "tree.plot_tree(clf, feature_names = x3,fontsize=8,filled = True)\n",
    "plt.show()"
   ]
  },
  {
   "cell_type": "code",
   "execution_count": 17,
   "id": "0afbf763",
   "metadata": {},
   "outputs": [
    {
     "name": "stdout",
     "output_type": "stream",
     "text": [
      "|--- CONTRIBUTOR_TYPE_FILE_BUGS <= 0.50\n",
      "|   |--- OSS_USER_PRIORITIES_LICENSE <= 0.50\n",
      "|   |   |--- FIND_HELPER <= 1.50\n",
      "|   |   |   |--- class: 0\n",
      "|   |   |--- FIND_HELPER >  1.50\n",
      "|   |   |   |--- class: 0\n",
      "|   |--- OSS_USER_PRIORITIES_LICENSE >  0.50\n",
      "|   |   |--- PROVIDED_HELP <= 0.50\n",
      "|   |   |   |--- class: 1\n",
      "|   |   |--- PROVIDED_HELP >  0.50\n",
      "|   |   |   |--- class: 1\n",
      "|--- CONTRIBUTOR_TYPE_FILE_BUGS >  0.50\n",
      "|   |--- AGE <= 1.50\n",
      "|   |   |--- INTERNAL_EFFICACY <= 2.50\n",
      "|   |   |   |--- class: 0\n",
      "|   |   |--- INTERNAL_EFFICACY >  2.50\n",
      "|   |   |   |--- class: 1\n",
      "|   |--- AGE >  1.50\n",
      "|   |   |--- PROVIDED_HELP <= 0.50\n",
      "|   |   |   |--- class: 1\n",
      "|   |   |--- PROVIDED_HELP >  0.50\n",
      "|   |   |   |--- class: 1\n",
      "\n"
     ]
    }
   ],
   "source": [
    "r = export_text(clf, feature_names=list(X_train.columns))\n",
    "print(r)"
   ]
  },
  {
   "cell_type": "code",
   "execution_count": 18,
   "id": "d920c7d5",
   "metadata": {},
   "outputs": [
    {
     "name": "stdout",
     "output_type": "stream",
     "text": [
      "[[ 21 245]\n",
      " [ 16 842]]\n",
      "              precision    recall  f1-score   support\n",
      "\n",
      "           0       0.57      0.08      0.14       266\n",
      "           1       0.77      0.98      0.87       858\n",
      "\n",
      "    accuracy                           0.77      1124\n",
      "   macro avg       0.67      0.53      0.50      1124\n",
      "weighted avg       0.73      0.77      0.69      1124\n",
      "\n",
      "3.7050039768218994\n"
     ]
    }
   ],
   "source": [
    "from sklearn.metrics import classification_report, confusion_matrix\n",
    "print(confusion_matrix(y_test, y_pred))\n",
    "print(classification_report(y_test, y_pred))\n",
    "\n",
    "\"the code you want to test stays here\"\n",
    "end = time.time()\n",
    "print(end - start)"
   ]
  },
  {
   "cell_type": "code",
   "execution_count": null,
   "id": "30f03c9c",
   "metadata": {},
   "outputs": [],
   "source": []
  }
 ],
 "metadata": {
  "kernelspec": {
   "display_name": "Python 3 (ipykernel)",
   "language": "python",
   "name": "python3"
  },
  "language_info": {
   "codemirror_mode": {
    "name": "ipython",
    "version": 3
   },
   "file_extension": ".py",
   "mimetype": "text/x-python",
   "name": "python",
   "nbconvert_exporter": "python",
   "pygments_lexer": "ipython3",
   "version": "3.8.5"
  }
 },
 "nbformat": 4,
 "nbformat_minor": 5
}
